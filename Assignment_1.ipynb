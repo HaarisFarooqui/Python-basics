{
  "nbformat": 4,
  "nbformat_minor": 0,
  "metadata": {
    "colab": {
      "provenance": []
    },
    "kernelspec": {
      "name": "python3",
      "display_name": "Python 3"
    },
    "language_info": {
      "name": "python"
    }
  },
  "cells": [
    {
      "cell_type": "markdown",
      "source": [],
      "metadata": {
        "id": "ddCkZmeek44N"
      }
    },
    {
      "cell_type": "markdown",
      "source": [
        "Q1- What is Python, and why is it popular?\n",
        "Ans- Python is a high-level, interpreted programming language known for its simplicity and readability. It is popular due to its versatility, extensive libraries, and strong community support, making it ideal for web development, data science, AI, and automation.\n",
        "\n",
        "Q2- What is an interpreter in Python?\n",
        "Ans- An interpreter in Python is a program that executes Python code line by line, converting it into machine-readable instructions. It allows for interactive execution, making debugging and development faster and more flexible.\n",
        "\n",
        "Q3- What are pre-defined keywords in Python?\n",
        "Ans - Pre-defined keywords in Python are reserved words that have special meanings and cannot be used as variable names. Examples include if, else, while, def, class, and return, which define the language’s syntax and structure.\n",
        "\n",
        "Q4- Can keywords be used as variable names?\n",
        "Ans- No, keywords cannot be used as variable names in Python because they are reserved for specific functions and syntax. Using a keyword as a variable name will result in a syntax error.\n",
        "\n",
        "Q5- What is mutability in Python?\n",
        "Ans- Mutability in Python refers to whether an object’s value can be changed after creation. Mutable objects (like lists and dictionaries) can be modified, while immutable objects (like strings and tuples) cannot.\n",
        "\n",
        "Q6-Why are lists mutable, but tuples are immutable\n",
        "Ans - Lists are mutable because their elements can be changed, added, or removed after creation, making them flexible for dynamic data storage. Tuples are immutable to ensure data integrity and performance optimization, preventing accidental modifications.\n",
        "\n",
        "Q7- What is the difference between “==” and “is” operators in Python?\n",
        "Ans - The `==` operator checks if two variables have the same value, while the `is` operator checks if they refer to the same memory location (object identity). This means `==` compares content, whereas `is` compares object references.\n",
        "\n",
        "Q8- What are logical operators in Python?\n",
        "Ans- Logical operators in Python are used to combine conditional statements and return Boolean values (`True` or `False`). The three main logical operators are **`and`** (returns `True` if both conditions are true), **`or`** (returns `True` if at least one condition is true), and **`not`** (reverses the Boolean value).\n",
        "\n",
        "Q9- What is type casting in Python?\n",
        "Ans - Type casting in Python is the process of converting a variable from one data type to another. It can be done using functions like `int()`, `float()`, `str()`, and `list()` to explicitly change data types.\n",
        "\n",
        "Q10- What is the difference between implicit and explicit type casting?\n",
        "Ans- Implicit type casting (automatic conversion) is done by Python when converting a smaller data type to a larger one, like `int` to `float`, without loss of data. Explicit type casting (manual conversion) is when the programmer uses functions like `int()`, `float()`, or `str()` to convert data types intentionally.\n",
        "\n",
        "Q11- What is the purpose of conditional statements in Python?\n",
        "Ans- Conditional statements in Python control the flow of execution by allowing decisions based on conditions. They use `if`, `elif`, and `else` to execute specific blocks of code when certain conditions are met.\n",
        "\n",
        "Q12- How does the elif statement work?\n",
        "Ans- The `elif` statement in Python is used for multiple conditional checks after an `if` statement. If the `if` condition is false, Python evaluates the `elif` conditions sequentially and executes the first one that is true; otherwise, the `else` block runs if none are true.\n",
        "\n",
        "Q13- What is the difference between for and while loops?\n",
        "Ans- A `for` loop is used for iterating over a sequence (like a list, tuple, or range) with a predetermined number of iterations. A `while` loop runs as long as a specified condition remains true, making it useful for situations where the number of iterations is unknown beforehand.\n",
        "\n",
        "Q14- Describe a scenario where a while loop is more suitable than a for loop.\n",
        "Ans - A `while` loop is more suitable than a `for` loop when the number of iterations is unknown beforehand and depends on a condition being met.  \n",
        "\n",
        "**Scenario:** Reading user input until a valid response is given.  \n",
        "\n",
        "```python\n",
        "user_input = \"\"\n",
        "while user_input.lower() != \"yes\":\n",
        "    user_input = input(\"Do you want to continue? (Type 'yes' to proceed): \")\n",
        "print(\"Proceeding...\")\n",
        "```\n",
        "\n",
        "Here, a `while` loop is ideal because the number of iterations depends on when the user enters `\"yes\"`, which is not predetermined."
      ],
      "metadata": {
        "id": "iIMGRokak6OG"
      }
    },
    {
      "cell_type": "code",
      "source": [
        "# PC 1 Write a Python program to print \"Hello, World!\"\"\n",
        "'''print (\"Hello World!\") '''"
      ],
      "metadata": {
        "colab": {
          "base_uri": "https://localhost:8080/",
          "height": 35
        },
        "id": "QsZcDskfH8a6",
        "outputId": "b2b428a5-7e99-447e-a807-b8200968dd61"
      },
      "execution_count": 2,
      "outputs": [
        {
          "output_type": "execute_result",
          "data": {
            "text/plain": [
              "'print (\"Hello World!\") '"
            ],
            "application/vnd.google.colaboratory.intrinsic+json": {
              "type": "string"
            }
          },
          "metadata": {},
          "execution_count": 2
        }
      ]
    },
    {
      "cell_type": "code",
      "source": [
        "# 2 Write a Python program that displays your name and age?\n",
        "'''name = input(\"Enter your name: \")\n",
        "age = input(\"Enter your age: \")\n",
        "print(\"Name:\", name)\n",
        "print(\"Age:\", age)'''"
      ],
      "metadata": {
        "colab": {
          "base_uri": "https://localhost:8080/",
          "height": 35
        },
        "id": "7T6_8wMqIAJI",
        "outputId": "a08a8451-bc4d-4a0f-b15c-37d1a71aa2b1"
      },
      "execution_count": 3,
      "outputs": [
        {
          "output_type": "execute_result",
          "data": {
            "text/plain": [
              "'name = input(\"Enter your name: \")\\nage = input(\"Enter your age: \")\\nprint(\"Name:\", name)\\nprint(\"Age:\", age)'"
            ],
            "application/vnd.google.colaboratory.intrinsic+json": {
              "type": "string"
            }
          },
          "metadata": {},
          "execution_count": 3
        }
      ]
    },
    {
      "cell_type": "code",
      "source": [
        "# 3 Write code to print all the pre-defined keywords in Python using the keyword library?\n",
        "'''import keyword\n",
        "\n",
        "# Print all Python keywords\n",
        "print(\"Python Keywords:\")\n",
        "print(keyword.kwlist)'''"
      ],
      "metadata": {
        "colab": {
          "base_uri": "https://localhost:8080/",
          "height": 35
        },
        "id": "fFWq0fKeIuKI",
        "outputId": "b21e2dd7-e841-4488-d75d-2636284479aa"
      },
      "execution_count": 4,
      "outputs": [
        {
          "output_type": "execute_result",
          "data": {
            "text/plain": [
              "'import keyword\\n\\n# Print all Python keywords\\nprint(\"Python Keywords:\")\\nprint(keyword.kwlist)'"
            ],
            "application/vnd.google.colaboratory.intrinsic+json": {
              "type": "string"
            }
          },
          "metadata": {},
          "execution_count": 4
        }
      ]
    },
    {
      "cell_type": "code",
      "source": [
        "# 4 Write a program that checks if a given word is a Python keyword\n",
        "'''import keyword\n",
        "\n",
        "# Get user input\n",
        "word = input(\"Enter a word: \")\n",
        "\n",
        "# Check if it's a Python keyword\n",
        "if keyword.iskeyword(word):\n",
        "    print(f\"'{word}' is a Python keyword.\")\n",
        "else:\n",
        "    print(f\"'{word}' is not a Python keyword.\")'''"
      ],
      "metadata": {
        "colab": {
          "base_uri": "https://localhost:8080/",
          "height": 53
        },
        "id": "y6Vb5kooJR2u",
        "outputId": "6706eba6-8052-4430-cdde-8d2aa3ddc222"
      },
      "execution_count": 5,
      "outputs": [
        {
          "output_type": "execute_result",
          "data": {
            "text/plain": [
              "'import keyword\\n\\n# Get user input\\nword = input(\"Enter a word: \")\\n\\n# Check if it\\'s a Python keyword\\nif keyword.iskeyword(word):\\n    print(f\"\\'{word}\\' is a Python keyword.\")\\nelse:\\n    print(f\"\\'{word}\\' is not a Python keyword.\")'"
            ],
            "application/vnd.google.colaboratory.intrinsic+json": {
              "type": "string"
            }
          },
          "metadata": {},
          "execution_count": 5
        }
      ]
    },
    {
      "cell_type": "code",
      "source": [
        "# 5 Create a list and tuple in Python, and demonstrate how attempting to change an element works differently for each\n",
        "'''# Create a list and a tuple\n",
        "my_list = [1, 2, 3]\n",
        "my_tuple = (1, 2, 3)\n",
        "\n",
        "# Modifying an element in the list (Allowed)\n",
        "my_list[1] = 10\n",
        "print(\"Modified List:\", my_list)  # Output: [1, 10, 3]\n",
        "\n",
        "# Attempting to modify an element in the tuple (Not Allowed)\n",
        "try:\n",
        "    my_tuple[1] = 10  # This will raise a TypeError\n",
        "except TypeError as e:\n",
        "    print(\"Error:\", e)  # Output: 'tuple' object does not support item assignment'''"
      ],
      "metadata": {
        "colab": {
          "base_uri": "https://localhost:8080/",
          "height": 70
        },
        "id": "jc2RO06NJnPn",
        "outputId": "e2727822-1cf7-49e7-82a3-818d5fef7837"
      },
      "execution_count": 6,
      "outputs": [
        {
          "output_type": "execute_result",
          "data": {
            "text/plain": [
              "'# Create a list and a tuple\\nmy_list = [1, 2, 3]\\nmy_tuple = (1, 2, 3)\\n\\n# Modifying an element in the list (Allowed)\\nmy_list[1] = 10\\nprint(\"Modified List:\", my_list)  # Output: [1, 10, 3]\\n\\n# Attempting to modify an element in the tuple (Not Allowed)\\ntry:\\n    my_tuple[1] = 10  # This will raise a TypeError\\nexcept TypeError as e:\\n    print(\"Error:\", e)  # Output: \\'tuple\\' object does not support item assignment'"
            ],
            "application/vnd.google.colaboratory.intrinsic+json": {
              "type": "string"
            }
          },
          "metadata": {},
          "execution_count": 6
        }
      ]
    },
    {
      "cell_type": "code",
      "source": [
        "# 6 Write a function to demonstrate the behavior of mutable and immutable arguments\n",
        "'''def modify_values(num, my_list):\n",
        "    num += 10  # Modifying an immutable integer\n",
        "    my_list.append(4)  # Modifying a mutable list\n",
        "\n",
        "# Initialize variables\n",
        "x = 5  # Immutable\n",
        "lst = [1, 2, 3]  # Mutable\n",
        "\n",
        "# Call the function\n",
        "modify_values(x, lst)\n",
        "\n",
        "# Print results\n",
        "print(\"Value of x after function call:\", x)  # x remains unchanged\n",
        "print(\"Value of lst after function call:\", lst)  # List gets modified'''"
      ],
      "metadata": {
        "colab": {
          "base_uri": "https://localhost:8080/",
          "height": 70
        },
        "id": "Pk1uk0ivJ2-i",
        "outputId": "e5a704a4-19e3-4741-b06c-3d791e6dde5a"
      },
      "execution_count": 7,
      "outputs": [
        {
          "output_type": "execute_result",
          "data": {
            "text/plain": [
              "'def modify_values(num, my_list):\\n    num += 10  # Modifying an immutable integer\\n    my_list.append(4)  # Modifying a mutable list\\n\\n# Initialize variables\\nx = 5  # Immutable\\nlst = [1, 2, 3]  # Mutable\\n\\n# Call the function\\nmodify_values(x, lst)\\n\\n# Print results\\nprint(\"Value of x after function call:\", x)  # x remains unchanged\\nprint(\"Value of lst after function call:\", lst)  # List gets modified'"
            ],
            "application/vnd.google.colaboratory.intrinsic+json": {
              "type": "string"
            }
          },
          "metadata": {},
          "execution_count": 7
        }
      ]
    },
    {
      "cell_type": "code",
      "source": [
        "# 7 Write a function to demonstrate the behavior of mutable and immutable arguments\n",
        "'''def demonstrate_mutability(immutable_var, mutable_var):\n",
        "    # Attempt to modify the immutable variable (integer)\n",
        "    immutable_var += 10  # This creates a new local variable\n",
        "\n",
        "    # Modify the mutable variable (list)\n",
        "    mutable_var.append(4)  # This changes the original list\n",
        "\n",
        "    print(\"Inside function - immutable_var:\", immutable_var)\n",
        "    print(\"Inside function - mutable_var:\", mutable_var)\n",
        "\n",
        "# Initialize variables\n",
        "num = 5  # Immutable (integer)\n",
        "lst = [1, 2, 3]  # Mutable (list)\n",
        "\n",
        "# Call the function\n",
        "demonstrate_mutability(num, lst)\n",
        "\n",
        "# Print results outside function\n",
        "print(\"Outside function - num:\", num)  # num remains unchanged\n",
        "print(\"Outside function - lst:\", lst)  # List gets modified'''"
      ],
      "metadata": {
        "colab": {
          "base_uri": "https://localhost:8080/",
          "height": 105
        },
        "id": "mNSM-CIfKBW-",
        "outputId": "64797700-efdb-4f24-96b6-dbf9791b73bb"
      },
      "execution_count": 8,
      "outputs": [
        {
          "output_type": "execute_result",
          "data": {
            "text/plain": [
              "'def demonstrate_mutability(immutable_var, mutable_var):\\n    # Attempt to modify the immutable variable (integer)\\n    immutable_var += 10  # This creates a new local variable\\n\\n    # Modify the mutable variable (list)\\n    mutable_var.append(4)  # This changes the original list\\n\\n    print(\"Inside function - immutable_var:\", immutable_var)\\n    print(\"Inside function - mutable_var:\", mutable_var)\\n\\n# Initialize variables\\nnum = 5  # Immutable (integer)\\nlst = [1, 2, 3]  # Mutable (list)\\n\\n# Call the function\\ndemonstrate_mutability(num, lst)\\n\\n# Print results outside function\\nprint(\"Outside function - num:\", num)  # num remains unchanged\\nprint(\"Outside function - lst:\", lst)  # List gets modified'"
            ],
            "application/vnd.google.colaboratory.intrinsic+json": {
              "type": "string"
            }
          },
          "metadata": {},
          "execution_count": 8
        }
      ]
    },
    {
      "cell_type": "code",
      "source": [
        "# 8 Write a program to demonstrate the use of logical operators\n",
        "'''# Taking input values\n",
        "a = int(input(\"Enter first number: \"))\n",
        "b = int(input(\"Enter second number: \"))\n",
        "\n",
        "# Using logical AND\n",
        "if a > 0 and b > 0:\n",
        "    print(\"Both numbers are positive.\")\n",
        "\n",
        "# Using logical OR\n",
        "if a % 2 == 0 or b % 2 == 0:\n",
        "    print(\"At least one'''"
      ],
      "metadata": {
        "colab": {
          "base_uri": "https://localhost:8080/",
          "height": 53
        },
        "id": "0oxkQFBsKPAJ",
        "outputId": "4e9d0bec-9d4e-4308-9aed-e8ea25c149df"
      },
      "execution_count": 9,
      "outputs": [
        {
          "output_type": "execute_result",
          "data": {
            "text/plain": [
              "'# Taking input values\\na = int(input(\"Enter first number: \"))\\nb = int(input(\"Enter second number: \"))\\n\\n# Using logical AND\\nif a > 0 and b > 0:\\n    print(\"Both numbers are positive.\")\\n\\n# Using logical OR\\nif a % 2 == 0 or b % 2 == 0:\\n    print(\"At least one'"
            ],
            "application/vnd.google.colaboratory.intrinsic+json": {
              "type": "string"
            }
          },
          "metadata": {},
          "execution_count": 9
        }
      ]
    },
    {
      "cell_type": "code",
      "source": [
        "# 9 Write a Python program to convert user input from string to integer, float, and boolean types\n",
        "'''# Take user input as a string\n",
        "user_input = input(\"Enter a value: \")\n",
        "\n",
        "# Convert to integer\n",
        "try:\n",
        "    int_value = int(user_input)\n",
        "    print(\"Integer:\", int_value)\n",
        "except ValueError:\n",
        "    print(\"Cannot convert to integer.\")\n",
        "\n",
        "# Convert to float\n",
        "try:\n",
        "    float_value = float(user_input)\n",
        "    print(\"Float:\", float_value)\n",
        "except ValueError:\n",
        "    print(\"Cannot convert to float.\")\n",
        "\n",
        "# Convert to boolean\n",
        "bool_value = bool(user_input.strip())  # Empty string is False, non-empty is True\n",
        "print(\"Boolean:\", bool_value)'''"
      ],
      "metadata": {
        "colab": {
          "base_uri": "https://localhost:8080/",
          "height": 87
        },
        "id": "Tzs7ZzLGKXd8",
        "outputId": "75edef27-9652-4a23-a9cf-54e0706a9e0d"
      },
      "execution_count": 10,
      "outputs": [
        {
          "output_type": "execute_result",
          "data": {
            "text/plain": [
              "'# Take user input as a string\\nuser_input = input(\"Enter a value: \")\\n\\n# Convert to integer\\ntry:\\n    int_value = int(user_input)\\n    print(\"Integer:\", int_value)\\nexcept ValueError:\\n    print(\"Cannot convert to integer.\")\\n\\n# Convert to float\\ntry:\\n    float_value = float(user_input)\\n    print(\"Float:\", float_value)\\nexcept ValueError:\\n    print(\"Cannot convert to float.\")\\n\\n# Convert to boolean\\nbool_value = bool(user_input.strip())  # Empty string is False, non-empty is True\\nprint(\"Boolean:\", bool_value)'"
            ],
            "application/vnd.google.colaboratory.intrinsic+json": {
              "type": "string"
            }
          },
          "metadata": {},
          "execution_count": 10
        }
      ]
    },
    {
      "cell_type": "code",
      "source": [
        "# 10 Write code to demonstrate type casting with list elements\n",
        "'''# Original list with mixed data types as strings\n",
        "str_list = [\"10\", \"20.5\", \"30\", \"True\", \"False\"]\n",
        "\n",
        "# Convert elements to different data types\n",
        "int_list = [int(x) for x in str_list if x.isdigit()]  # Convert only numeric strings to integers\n",
        "float_list = [float(x) for x in str_list if x.replace('.', '', 1).isdigit()]  # Convert valid number'''"
      ],
      "metadata": {
        "colab": {
          "base_uri": "https://localhost:8080/",
          "height": 70
        },
        "id": "MvwJi8ReKhXS",
        "outputId": "2a342a6d-154c-453d-a0dd-ebce7f40d676"
      },
      "execution_count": 11,
      "outputs": [
        {
          "output_type": "execute_result",
          "data": {
            "text/plain": [
              "'# Original list with mixed data types as strings\\nstr_list = [\"10\", \"20.5\", \"30\", \"True\", \"False\"]\\n\\n# Convert elements to different data types\\nint_list = [int(x) for x in str_list if x.isdigit()]  # Convert only numeric strings to integers\\nfloat_list = [float(x) for x in str_list if x.replace(\\'.\\', \\'\\', 1).isdigit()]  # Convert valid number'"
            ],
            "application/vnd.google.colaboratory.intrinsic+json": {
              "type": "string"
            }
          },
          "metadata": {},
          "execution_count": 11
        }
      ]
    },
    {
      "cell_type": "code",
      "source": [
        "# 11 Write a program that checks if a number is positive, negative, or zero\n",
        "'''# Get user input\n",
        "num = float(input(\"Enter a number: \"))\n",
        "\n",
        "# Check the number type\n",
        "if num > 0:\n",
        "    print(\"The number is positive.\")\n",
        "elif num < 0:\n",
        "    print(\"The number is negative.\")\n",
        "else:\n",
        "    print(\"The number is zero.\")'''"
      ],
      "metadata": {
        "colab": {
          "base_uri": "https://localhost:8080/",
          "height": 53
        },
        "id": "m3-q3qWBKqQL",
        "outputId": "d42c6150-42ad-435a-aeb8-71b439a56fd7"
      },
      "execution_count": 12,
      "outputs": [
        {
          "output_type": "execute_result",
          "data": {
            "text/plain": [
              "'# Get user input\\nnum = float(input(\"Enter a number: \"))\\n\\n# Check the number type\\nif num > 0:\\n    print(\"The number is positive.\")\\nelif num < 0:\\n    print(\"The number is negative.\")\\nelse:\\n    print(\"The number is zero.\")'"
            ],
            "application/vnd.google.colaboratory.intrinsic+json": {
              "type": "string"
            }
          },
          "metadata": {},
          "execution_count": 12
        }
      ]
    },
    {
      "cell_type": "code",
      "source": [
        "# 12 Write a for loop to print numbers from 1 to 100\n",
        "'''for i in range(1, 101):\n",
        "    print(i)'''"
      ],
      "metadata": {
        "colab": {
          "base_uri": "https://localhost:8080/",
          "height": 35
        },
        "id": "J8GZhSaSKziC",
        "outputId": "6215ed97-3c8e-4cd0-fb48-4fb7edb1d469"
      },
      "execution_count": 14,
      "outputs": [
        {
          "output_type": "execute_result",
          "data": {
            "text/plain": [
              "'for i in range(1, 101):\\n    print(i)'"
            ],
            "application/vnd.google.colaboratory.intrinsic+json": {
              "type": "string"
            }
          },
          "metadata": {},
          "execution_count": 14
        }
      ]
    },
    {
      "cell_type": "code",
      "source": [
        "# 13  Write a Python program to find the sum of all even numbers between 1 and 50\n",
        "\n",
        "'''# Initialize sum variable\n",
        "sum_even = 0\n",
        "\n",
        "# Loop through even numbers from 1 to 50\n",
        "for i in range(2, 51, 2):  # Start at 2, go up to 50, step by 2\n",
        "    sum_even += i\n",
        "\n",
        "# Print the result\n",
        "print(\"Sum of even numbers between 1 and 50:\", sum_even)'''"
      ],
      "metadata": {
        "colab": {
          "base_uri": "https://localhost:8080/",
          "height": 53
        },
        "id": "clIOvKxsK4sZ",
        "outputId": "56dc89e0-253c-40a3-a4f7-545ce2a7752e"
      },
      "execution_count": 15,
      "outputs": [
        {
          "output_type": "execute_result",
          "data": {
            "text/plain": [
              "'# Initialize sum variable\\nsum_even = 0\\n\\n# Loop through even numbers from 1 to 50\\nfor i in range(2, 51, 2):  # Start at 2, go up to 50, step by 2\\n    sum_even += i\\n\\n# Print the result\\nprint(\"Sum of even numbers between 1 and 50:\", sum_even)'"
            ],
            "application/vnd.google.colaboratory.intrinsic+json": {
              "type": "string"
            }
          },
          "metadata": {},
          "execution_count": 15
        }
      ]
    },
    {
      "cell_type": "code",
      "source": [
        "# 14 Write a program to reverse a string using a while loop\n",
        "'''# Get user input\n",
        "string = input(\"Enter a string: \")\n",
        "\n",
        "# Initialize variables\n",
        "reversed_string = \"\"\n",
        "i = len(string) - 1  # Start from the last index\n",
        "\n",
        "# Reverse using while loop\n",
        "while i >= 0:\n",
        "    reversed_string += string[i]  # Append characters in reverse order'''"
      ],
      "metadata": {
        "colab": {
          "base_uri": "https://localhost:8080/",
          "height": 53
        },
        "id": "HSCKvmjqLSCu",
        "outputId": "922414e1-7fc1-4cfc-b58f-51b9929ea8b1"
      },
      "execution_count": 16,
      "outputs": [
        {
          "output_type": "execute_result",
          "data": {
            "text/plain": [
              "'# Get user input\\nstring = input(\"Enter a string: \")\\n\\n# Initialize variables\\nreversed_string = \"\"\\ni = len(string) - 1  # Start from the last index\\n\\n# Reverse using while loop\\nwhile i >= 0:\\n    reversed_string += string[i]  # Append characters in reverse order'"
            ],
            "application/vnd.google.colaboratory.intrinsic+json": {
              "type": "string"
            }
          },
          "metadata": {},
          "execution_count": 16
        }
      ]
    },
    {
      "cell_type": "code",
      "source": [
        "# 15 Write a Python program to calculate the factorial of a number provided by the user using a while loop.\n",
        "'''# Get user input\n",
        "num = int(input(\"Enter a number: \"))\n",
        "\n",
        "# Initialize variables\n",
        "factorial = 1\n",
        "i = num\n",
        "\n",
        "# Calculate factorial using while loop\n",
        "while i > 0:\n",
        "    factorial *= i  # Multiply current number\n",
        "    i -= 1  # Decrease i by 1\n",
        "\n",
        "# Output the result\n",
        "print(f\"Factorial of {num} is {factorial}\")'''"
      ],
      "metadata": {
        "colab": {
          "base_uri": "https://localhost:8080/",
          "height": 53
        },
        "id": "v7e2P-S1LeJI",
        "outputId": "a6c8d26c-d867-4e3d-d3bb-e736814848cb"
      },
      "execution_count": 18,
      "outputs": [
        {
          "output_type": "execute_result",
          "data": {
            "text/plain": [
              "'# Get user input\\nnum = int(input(\"Enter a number: \"))\\n\\n# Initialize variables\\nfactorial = 1\\ni = num\\n\\n# Calculate factorial using while loop\\nwhile i > 0:\\n    factorial *= i  # Multiply current number\\n    i -= 1  # Decrease i by 1\\n\\n# Output the result\\nprint(f\"Factorial of {num} is {factorial}\")'"
            ],
            "application/vnd.google.colaboratory.intrinsic+json": {
              "type": "string"
            }
          },
          "metadata": {},
          "execution_count": 18
        }
      ]
    }
  ]
}